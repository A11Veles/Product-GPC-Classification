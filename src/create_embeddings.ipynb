{
 "cells": [
  {
   "cell_type": "code",
   "execution_count": 24,
   "id": "dcc0b32b",
   "metadata": {},
   "outputs": [],
   "source": [
    "import pandas as pd\n",
    "import numpy as np\n",
    "import json\n",
    "import os\n",
    "from pathlib import Path\n",
    "import torch\n",
    "from sentence_transformers import SentenceTransformer\n",
    "from typing import List, Optional\n",
    "from dataclasses import dataclass\n",
    "\n",
    "import teradatasql\n",
    "from sqlalchemy import create_engine\n",
    "from dotenv import load_dotenv\n",
    "\n",
    "os.makedirs('../results', exist_ok=True)\n",
    "\n",
    "\n",
    "import sys\n",
    "sys.path.append('..')\n",
    "from models import SentenceEmbeddingModel, SentenceEmbeddingConfig\n",
    "from utils import load_embedding_model\n",
    "from constants import (\n",
    "    CLEANED_TEST_DATA_PATH,\n",
    "    ENCODED_TEST_DATA_PATH,\n",
    "    CLEANED_TRAIN_DATA_PATH\n",
    ")\n",
    "\n",
    "\n"
   ]
  },
  {
   "cell_type": "code",
   "execution_count": 12,
   "id": "8576084c",
   "metadata": {},
   "outputs": [],
   "source": [
    "# @dataclass\n",
    "# class SentenceEmbeddingConfig:\n",
    "#     device: str\n",
    "#     dtype: str\n",
    "#     model_id: str\n",
    "#     truncate_dim: Optional[int]\n",
    "#     convert_to_numpy: bool\n",
    "#     convert_to_tensor: bool\n",
    "\n",
    "# class SentenceEmbeddingModel:\n",
    "#     def __init__(self, config: SentenceEmbeddingConfig):\n",
    "#         super().__init__()\n",
    "#         self.config = config\n",
    "#         self.model_id = config.model_id\n",
    "#         self.device = config.device\n",
    "#         self.dtype = config.dtype\n",
    "#         self.truncate_dim = config.truncate_dim\n",
    "\n",
    "#         self.model = SentenceTransformer(\n",
    "#             self.model_id,\n",
    "#             device=self.device,\n",
    "#             truncate_dim=self.truncate_dim,\n",
    "#             model_kwargs={\"torch_dtype\": getattr(torch, self.dtype) if isinstance(self.dtype, str) else self.dtype}\n",
    "#         )\n",
    "\n",
    "#     def get_embeddings(self, texts: List[str], prompt_name: Optional[str] = None):\n",
    "#         embeddings = self.model.encode(\n",
    "#             texts, \n",
    "#             prompt_name=prompt_name, \n",
    "#             convert_to_numpy=self.config.convert_to_numpy,\n",
    "#             convert_to_tensor=self.config.convert_to_tensor\n",
    "#         )\n",
    "#         return embeddings\n",
    "\n",
    "# def load_embedding_model(config_path: str):\n",
    "#     with open(config_path, \"r\") as f:\n",
    "#         config_dict = json.load(f)\n",
    "    \n",
    "#     try:\n",
    "#         config = SentenceEmbeddingConfig(**config_dict)\n",
    "#     except TypeError as e:\n",
    "#         raise ValueError(f\"Invalid configuration keys: {e}.\")\n",
    "\n",
    "#     model = SentenceEmbeddingModel(config)\n",
    "#     return model"
   ]
  },
  {
   "cell_type": "code",
   "execution_count": 13,
   "id": "584587a2",
   "metadata": {},
   "outputs": [
    {
     "name": "stdout",
     "output_type": "stream",
     "text": [
      "Loading E5 Large model...\n",
      "E5 Large model loaded successfully on cuda!\n"
     ]
    }
   ],
   "source": [
    "config_path = \"../config/e5_large_instruct_config.json\"\n",
    "\n",
    "print(\"Loading E5 Large model...\")\n",
    "embedding_model = load_embedding_model(config_path)\n",
    "print(f\"E5 Large model loaded successfully on {embedding_model.device}!\")"
   ]
  },
  {
   "cell_type": "code",
   "execution_count": 20,
   "id": "bd54cd50",
   "metadata": {},
   "outputs": [
    {
     "name": "stdout",
     "output_type": "stream",
     "text": [
      "Embeddings saved with 4546 rows and 32 unique classes\n"
     ]
    }
   ],
   "source": [
    "df = pd.read_csv('../data/cleaned_test.csv')\n",
    "unique_classes = df['class'].unique().tolist()\n",
    "\n",
    "item_embeddings = embedding_model.get_embeddings(df['cleaned_text'].tolist(), \"query\")\n",
    "class_embeddings = embedding_model.get_embeddings(unique_classes)\n",
    "\n",
    "# Convert to lists for CSV storage\n",
    "item_emb_list = item_embeddings.float().cpu().numpy().tolist()\n",
    "class_emb_list = class_embeddings.float().cpu().numpy().tolist()\n",
    "\n",
    "# Create class embedding mapping\n",
    "class_emb_dict = dict(zip(unique_classes, class_emb_list))\n",
    "\n",
    "df['item_embedding'] = item_emb_list\n",
    "df['class_embedding'] = [class_emb_dict[cls] for cls in df['class']]\n",
    "\n",
    "# Create separate columns for unique classes (only for first N rows where N = number of unique classes)\n",
    "df['unique_classes'] = None\n",
    "df['unique_classes_embeddings'] = None\n",
    "\n",
    "# Fill only the first N rows with unique class data\n",
    "for i, (cls, emb) in enumerate(zip(unique_classes, class_emb_list)):\n",
    "    if i < len(df):\n",
    "        df.at[i, 'unique_classes'] = cls\n",
    "        df.at[i, 'unique_classes_embeddings'] = str(emb)  # Convert list to string for CSV storage\n",
    "\n",
    "df.to_csv('../results/embeddings.csv', index=False)\n",
    "print(f\"Embeddings saved with {len(df)} rows and {len(unique_classes)} unique classes\")"
   ]
  },
  {
   "cell_type": "code",
   "execution_count": 25,
   "id": "e5f2891f",
   "metadata": {},
   "outputs": [],
   "source": [
    "load_dotenv('../.env')\n",
    "\n",
    "TD_HOST = os.getenv('TD_HOST')\n",
    "TD_USER = os.getenv('TD_USER')\n",
    "TD_PASS = os.getenv('TD_PASS')\n",
    "TD_DB = os.getenv('TD_DB')"
   ]
  },
  {
   "cell_type": "code",
   "execution_count": 29,
   "id": "823a9776",
   "metadata": {},
   "outputs": [
    {
     "name": "stdout",
     "output_type": "stream",
     "text": [
      "Successfully connected to Teradata!\n"
     ]
    }
   ],
   "source": [
    "conn = teradatasql.connect(\n",
    "    host=TD_HOST,\n",
    "    user=TD_USER,\n",
    "    password=TD_PASS,\n",
    "    database=TD_DB\n",
    ")\n",
    "\n",
    "print(\"Successfully connected to Teradata!\")"
   ]
  },
  {
   "cell_type": "code",
   "execution_count": 35,
   "id": "555c5c2c",
   "metadata": {},
   "outputs": [
    {
     "name": "stdout",
     "output_type": "stream",
     "text": [
      "\n",
      "Tables in DEMO_USER:\n",
      "------------------------------\n",
      "1. gpc_labels_fc\n",
      "2. train_data\n",
      "3. train_embeddings_fc\n"
     ]
    }
   ],
   "source": [
    "query = f\"SELECT TableName FROM DBC.TablesV WHERE DatabaseName = '{TD_DB}' AND TableKind = 'T' ORDER BY TableName\"\n",
    "\n",
    "cursor = conn.cursor()\n",
    "cursor.execute(query)\n",
    "\n",
    "print(f\"\\nTables in {TD_DB}:\")\n",
    "print(\"-\" * 30)\n",
    "for i, (table_name,) in enumerate(cursor.fetchall(), 1):\n",
    "    print(f\"{i}. {table_name}\")"
   ]
  },
  {
   "cell_type": "code",
   "execution_count": 36,
   "id": "0915438b",
   "metadata": {},
   "outputs": [
    {
     "name": "stdout",
     "output_type": "stream",
     "text": [
      "Table columns: ['row_id', 'v1', 'v2', 'v3', 'v4', 'v5', 'v6', 'v7', 'v8', 'v9', 'v10', 'v11', 'v12', 'v13', 'v14', 'v15', 'v16', 'v17', 'v18', 'v19', 'v20', 'v21', 'v22', 'v23', 'v24', 'v25', 'v26', 'v27', 'v28', 'v29', 'v30', 'v31', 'v32', 'v33', 'v34', 'v35', 'v36', 'v37', 'v38', 'v39', 'v40', 'v41', 'v42', 'v43', 'v44', 'v45', 'v46', 'v47', 'v48', 'v49', 'v50', 'v51', 'v52', 'v53', 'v54', 'v55', 'v56', 'v57', 'v58', 'v59', 'v60', 'v61', 'v62', 'v63', 'v64', 'v65', 'v66', 'v67', 'v68', 'v69', 'v70', 'v71', 'v72', 'v73', 'v74', 'v75', 'v76', 'v77', 'v78', 'v79', 'v80', 'v81', 'v82', 'v83', 'v84', 'v85', 'v86', 'v87', 'v88', 'v89', 'v90', 'v91', 'v92', 'v93', 'v94', 'v95', 'v96', 'v97', 'v98', 'v99', 'v100', 'v101', 'v102', 'v103', 'v104', 'v105', 'v106', 'v107', 'v108', 'v109', 'v110', 'v111', 'v112', 'v113', 'v114', 'v115', 'v116', 'v117', 'v118', 'v119', 'v120', 'v121', 'v122', 'v123', 'v124', 'v125', 'v126', 'v127', 'v128', 'v129', 'v130', 'v131', 'v132', 'v133', 'v134', 'v135', 'v136', 'v137', 'v138', 'v139', 'v140', 'v141', 'v142', 'v143', 'v144', 'v145', 'v146', 'v147', 'v148', 'v149', 'v150', 'v151', 'v152', 'v153', 'v154', 'v155', 'v156', 'v157', 'v158', 'v159', 'v160', 'v161', 'v162', 'v163', 'v164', 'v165', 'v166', 'v167', 'v168', 'v169', 'v170', 'v171', 'v172', 'v173', 'v174', 'v175', 'v176', 'v177', 'v178', 'v179', 'v180', 'v181', 'v182', 'v183', 'v184', 'v185', 'v186', 'v187', 'v188', 'v189', 'v190', 'v191', 'v192', 'v193', 'v194', 'v195', 'v196', 'v197', 'v198', 'v199', 'v200', 'v201', 'v202', 'v203', 'v204', 'v205', 'v206', 'v207', 'v208', 'v209', 'v210', 'v211', 'v212', 'v213', 'v214', 'v215', 'v216', 'v217', 'v218', 'v219', 'v220', 'v221', 'v222', 'v223', 'v224', 'v225', 'v226', 'v227', 'v228', 'v229', 'v230', 'v231', 'v232', 'v233', 'v234', 'v235', 'v236', 'v237', 'v238', 'v239', 'v240', 'v241', 'v242', 'v243', 'v244', 'v245', 'v246', 'v247', 'v248', 'v249', 'v250', 'v251', 'v252', 'v253', 'v254', 'v255', 'v256', 'v257', 'v258', 'v259', 'v260', 'v261', 'v262', 'v263', 'v264', 'v265', 'v266', 'v267', 'v268', 'v269', 'v270', 'v271', 'v272', 'v273', 'v274', 'v275', 'v276', 'v277', 'v278', 'v279', 'v280', 'v281', 'v282', 'v283', 'v284', 'v285', 'v286', 'v287', 'v288', 'v289', 'v290', 'v291', 'v292', 'v293', 'v294', 'v295', 'v296', 'v297', 'v298', 'v299', 'v300', 'v301', 'v302', 'v303', 'v304', 'v305', 'v306', 'v307', 'v308', 'v309', 'v310', 'v311', 'v312', 'v313', 'v314', 'v315', 'v316', 'v317', 'v318', 'v319', 'v320', 'v321', 'v322', 'v323', 'v324', 'v325', 'v326', 'v327', 'v328', 'v329', 'v330', 'v331', 'v332', 'v333', 'v334', 'v335', 'v336', 'v337', 'v338', 'v339', 'v340', 'v341', 'v342', 'v343', 'v344', 'v345', 'v346', 'v347', 'v348', 'v349', 'v350', 'v351', 'v352', 'v353', 'v354', 'v355', 'v356', 'v357', 'v358', 'v359', 'v360', 'v361', 'v362', 'v363', 'v364', 'v365', 'v366', 'v367', 'v368', 'v369', 'v370', 'v371', 'v372', 'v373', 'v374', 'v375', 'v376', 'v377', 'v378', 'v379', 'v380', 'v381', 'v382', 'v383', 'v384', 'v385', 'v386', 'v387', 'v388', 'v389', 'v390', 'v391', 'v392', 'v393', 'v394', 'v395', 'v396', 'v397', 'v398', 'v399', 'v400', 'v401', 'v402', 'v403', 'v404', 'v405', 'v406', 'v407', 'v408', 'v409', 'v410', 'v411', 'v412', 'v413', 'v414', 'v415', 'v416', 'v417', 'v418', 'v419', 'v420', 'v421', 'v422', 'v423', 'v424', 'v425', 'v426', 'v427', 'v428', 'v429', 'v430', 'v431', 'v432', 'v433', 'v434', 'v435', 'v436', 'v437', 'v438', 'v439', 'v440', 'v441', 'v442', 'v443', 'v444', 'v445', 'v446', 'v447', 'v448', 'v449', 'v450', 'v451', 'v452', 'v453', 'v454', 'v455', 'v456', 'v457', 'v458', 'v459', 'v460', 'v461', 'v462', 'v463', 'v464', 'v465', 'v466', 'v467', 'v468', 'v469', 'v470', 'v471', 'v472', 'v473', 'v474', 'v475', 'v476', 'v477', 'v478', 'v479', 'v480', 'v481', 'v482', 'v483', 'v484', 'v485', 'v486', 'v487', 'v488', 'v489', 'v490', 'v491', 'v492', 'v493', 'v494', 'v495', 'v496', 'v497', 'v498', 'v499', 'v500', 'v501', 'v502', 'v503', 'v504', 'v505', 'v506', 'v507', 'v508', 'v509', 'v510', 'v511', 'v512', 'v513', 'v514', 'v515', 'v516', 'v517', 'v518', 'v519', 'v520', 'v521', 'v522', 'v523', 'v524', 'v525', 'v526', 'v527', 'v528', 'v529', 'v530', 'v531', 'v532', 'v533', 'v534', 'v535', 'v536', 'v537', 'v538', 'v539', 'v540', 'v541', 'v542', 'v543', 'v544', 'v545', 'v546', 'v547', 'v548', 'v549', 'v550', 'v551', 'v552', 'v553', 'v554', 'v555', 'v556', 'v557', 'v558', 'v559', 'v560', 'v561', 'v562', 'v563', 'v564', 'v565', 'v566', 'v567', 'v568', 'v569', 'v570', 'v571', 'v572', 'v573', 'v574', 'v575', 'v576', 'v577', 'v578', 'v579', 'v580', 'v581', 'v582', 'v583', 'v584', 'v585', 'v586', 'v587', 'v588', 'v589', 'v590', 'v591', 'v592', 'v593', 'v594', 'v595', 'v596', 'v597', 'v598', 'v599', 'v600', 'v601', 'v602', 'v603', 'v604', 'v605', 'v606', 'v607', 'v608', 'v609', 'v610', 'v611', 'v612', 'v613', 'v614', 'v615', 'v616', 'v617', 'v618', 'v619', 'v620', 'v621', 'v622', 'v623', 'v624', 'v625', 'v626', 'v627', 'v628', 'v629', 'v630', 'v631', 'v632', 'v633', 'v634', 'v635', 'v636', 'v637', 'v638', 'v639', 'v640', 'v641', 'v642', 'v643', 'v644', 'v645', 'v646', 'v647', 'v648', 'v649', 'v650', 'v651', 'v652', 'v653', 'v654', 'v655', 'v656', 'v657', 'v658', 'v659', 'v660', 'v661', 'v662', 'v663', 'v664', 'v665', 'v666', 'v667', 'v668', 'v669', 'v670', 'v671', 'v672', 'v673', 'v674', 'v675', 'v676', 'v677', 'v678', 'v679', 'v680', 'v681', 'v682', 'v683', 'v684', 'v685', 'v686', 'v687', 'v688', 'v689', 'v690', 'v691', 'v692', 'v693', 'v694', 'v695', 'v696', 'v697', 'v698', 'v699', 'v700', 'v701', 'v702', 'v703', 'v704', 'v705', 'v706', 'v707', 'v708', 'v709', 'v710', 'v711', 'v712', 'v713', 'v714', 'v715', 'v716', 'v717', 'v718', 'v719', 'v720', 'v721', 'v722', 'v723', 'v724', 'v725', 'v726', 'v727', 'v728', 'v729', 'v730', 'v731', 'v732', 'v733', 'v734', 'v735', 'v736', 'v737', 'v738', 'v739', 'v740', 'v741', 'v742', 'v743', 'v744', 'v745', 'v746', 'v747', 'v748', 'v749', 'v750', 'v751', 'v752', 'v753', 'v754', 'v755', 'v756', 'v757', 'v758', 'v759', 'v760', 'v761', 'v762', 'v763', 'v764', 'v765', 'v766', 'v767', 'v768', 'v769', 'v770', 'v771', 'v772', 'v773', 'v774', 'v775', 'v776', 'v777', 'v778', 'v779', 'v780', 'v781', 'v782', 'v783', 'v784', 'v785', 'v786', 'v787', 'v788', 'v789', 'v790', 'v791', 'v792', 'v793', 'v794', 'v795', 'v796', 'v797', 'v798', 'v799', 'v800', 'v801', 'v802', 'v803', 'v804', 'v805', 'v806', 'v807', 'v808', 'v809', 'v810', 'v811', 'v812', 'v813', 'v814', 'v815', 'v816', 'v817', 'v818', 'v819', 'v820', 'v821', 'v822', 'v823', 'v824', 'v825', 'v826', 'v827', 'v828', 'v829', 'v830', 'v831', 'v832', 'v833', 'v834', 'v835', 'v836', 'v837', 'v838', 'v839', 'v840', 'v841', 'v842', 'v843', 'v844', 'v845', 'v846', 'v847', 'v848', 'v849', 'v850', 'v851', 'v852', 'v853', 'v854', 'v855', 'v856', 'v857', 'v858', 'v859', 'v860', 'v861', 'v862', 'v863', 'v864', 'v865', 'v866', 'v867', 'v868', 'v869', 'v870', 'v871', 'v872', 'v873', 'v874', 'v875', 'v876', 'v877', 'v878', 'v879', 'v880', 'v881', 'v882', 'v883', 'v884', 'v885', 'v886', 'v887', 'v888', 'v889', 'v890', 'v891', 'v892', 'v893', 'v894', 'v895', 'v896', 'v897', 'v898', 'v899', 'v900', 'v901', 'v902', 'v903', 'v904', 'v905', 'v906', 'v907', 'v908', 'v909', 'v910', 'v911', 'v912', 'v913', 'v914', 'v915', 'v916', 'v917', 'v918', 'v919', 'v920', 'v921', 'v922', 'v923', 'v924', 'v925', 'v926', 'v927', 'v928', 'v929', 'v930', 'v931', 'v932', 'v933', 'v934', 'v935', 'v936', 'v937', 'v938', 'v939', 'v940', 'v941', 'v942', 'v943', 'v944', 'v945', 'v946', 'v947', 'v948', 'v949', 'v950', 'v951', 'v952', 'v953', 'v954', 'v955', 'v956', 'v957', 'v958', 'v959', 'v960', 'v961', 'v962', 'v963', 'v964', 'v965', 'v966', 'v967', 'v968', 'v969', 'v970', 'v971', 'v972', 'v973', 'v974', 'v975', 'v976', 'v977', 'v978', 'v979', 'v980', 'v981', 'v982', 'v983', 'v984', 'v985', 'v986', 'v987', 'v988', 'v989', 'v990', 'v991', 'v992', 'v993', 'v994', 'v995', 'v996', 'v997', 'v998', 'v999', 'v1000', 'v1001', 'v1002', 'v1003', 'v1004', 'v1005', 'v1006', 'v1007', 'v1008', 'v1009', 'v1010', 'v1011', 'v1012', 'v1013', 'v1014', 'v1015', 'v1016', 'v1017', 'v1018', 'v1019', 'v1020', 'v1021', 'v1022', 'v1023', 'v1024']\n"
     ]
    }
   ],
   "source": [
    "cursor.execute(f\"SELECT TOP 1 * FROM {TD_DB}.train_embeddings_fc\")\n",
    "table_columns = [desc[0] for desc in cursor.description]\n",
    "print(\"Table columns:\", table_columns)"
   ]
  },
  {
   "cell_type": "code",
   "execution_count": null,
   "id": "13278f1e",
   "metadata": {},
   "outputs": [],
   "source": []
  }
 ],
 "metadata": {
  "kernelspec": {
   "display_name": "velesenv",
   "language": "python",
   "name": "python3"
  },
  "language_info": {
   "codemirror_mode": {
    "name": "ipython",
    "version": 3
   },
   "file_extension": ".py",
   "mimetype": "text/x-python",
   "name": "python",
   "nbconvert_exporter": "python",
   "pygments_lexer": "ipython3",
   "version": "3.12.11"
  }
 },
 "nbformat": 4,
 "nbformat_minor": 5
}
